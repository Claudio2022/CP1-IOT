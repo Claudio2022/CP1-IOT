{
  "nbformat": 4,
  "nbformat_minor": 0,
  "metadata": {
    "colab": {
      "provenance": []
    },
    "kernelspec": {
      "name": "python3",
      "display_name": "Python 3"
    },
    "language_info": {
      "name": "python"
    }
  },
  "cells": [
    {
      "cell_type": "markdown",
      "source": [
        "# **Checkpoint 01 - Modelagem de Dados e Aprendizagem de Máquina**\n",
        "\n",
        "## **Objetivo**\n",
        "Avaliar conceitos sobre Modelagem de dados e Aprendizado de Máquina (ML) adquiridos no curso.\n",
        "\n",
        "## **Descrição do Desafio**\n",
        "Você foi contratado por uma empresa que desenvolveu uma plataforma de compra e venda de carros usados. O funcionamento é bem simples, os usuários cadastram o carro que querem vender e esperam que outro usuário os compre, a empresa então fica com uma parte do valor de venda. Seu papel é desenvolver um modelo que possa determinar qual o melhor preço de venda para um usado.\n",
        "\n",
        "Para nortear o desenvolvimento, você precisa de um ponto de partida e determinou uma pergunta chave: **Qual o preço de venda de um veículo Volkswagen Sedan 2.0 a gasolina, ano 2005, com cerca de 172095 km rodados?**\n",
        "\n",
        "### **Orientações**\n",
        "Para responder a essa pergunta, você deve utilizar o dataset da empresa, que está representado no arquivo **carros.csv**, e seguir o roteiro proposto neste desafio."
      ],
      "metadata": {
        "id": "j-bzGvV3uE1y"
      }
    },
    {
      "cell_type": "markdown",
      "source": [
        "## **Exploração de Dados - 2 pontos**\n",
        "\n",
        "1 - Carregue o dataset e faça a inspeção nas 15 primeiras linhas para identificação dos atributos. Quantos dados existem nesse dataset? Qual a quantidade de atributos? Existem valores faltantes? De que tipo são os dados? (1,0)"
      ],
      "metadata": {
        "id": "3sD4e4IY13Ux"
      }
    },
    {
      "cell_type": "code",
      "source": [
        "from pandas._config import describe_option\n",
        "link = 'https://raw.githubusercontent.com/Claudio2022/CP1-IOT/main/carros.csv'\n",
        "import pandas as pd\n",
        "import seaborn as sns\n",
        "import matplotlib.pyplot as plt\n",
        "\n",
        "df = pd.read_csv('https://raw.githubusercontent.com/Claudio2022/CP1-IOT/main/carros.csv')\n",
        "df.info()\n",
        "df.isnull()\n",
        "df = df.dropna(axis = 0)\n",
        "df"
      ],
      "metadata": {
        "id": "SsuvPzQQ5PAt",
        "outputId": "ae1f09ca-4f9f-42b9-d558-c265f0688b8a",
        "colab": {
          "base_uri": "https://localhost:8080/",
          "height": 701
        }
      },
      "execution_count": 42,
      "outputs": [
        {
          "output_type": "stream",
          "name": "stdout",
          "text": [
            "<class 'pandas.core.frame.DataFrame'>\n",
            "RangeIndex: 4345 entries, 0 to 4344\n",
            "Data columns (total 9 columns):\n",
            " #   Column        Non-Null Count  Dtype  \n",
            "---  ------        --------------  -----  \n",
            " 0   Brand         4345 non-null   object \n",
            " 1   Price         4173 non-null   float64\n",
            " 2   Body          4345 non-null   object \n",
            " 3   Mileage/1000  4345 non-null   int64  \n",
            " 4   EngineV       4195 non-null   float64\n",
            " 5   Engine Type   4345 non-null   object \n",
            " 6   Registration  4345 non-null   object \n",
            " 7   Year          4345 non-null   int64  \n",
            " 8   Model         4345 non-null   object \n",
            "dtypes: float64(2), int64(2), object(5)\n",
            "memory usage: 305.6+ KB\n"
          ]
        },
        {
          "output_type": "execute_result",
          "data": {
            "text/plain": [
              "              Brand     Price       Body  Mileage/1000  EngineV Engine Type  \\\n",
              "0               BMW    4200.0      sedan           277      2.0      Petrol   \n",
              "1     Mercedes-Benz    7900.0        van           427      2.9      Diesel   \n",
              "2     Mercedes-Benz   13300.0      sedan           358      5.0         Gas   \n",
              "3              Audi   23000.0  crossover           240      4.2      Petrol   \n",
              "4            Toyota   18300.0  crossover           120      2.0      Petrol   \n",
              "...             ...       ...        ...           ...      ...         ...   \n",
              "4339         Toyota   17900.0      sedan            35      1.6      Petrol   \n",
              "4340  Mercedes-Benz  125000.0      sedan             9      3.0      Diesel   \n",
              "4341            BMW    6500.0      sedan             1      3.5      Petrol   \n",
              "4342            BMW    8000.0      sedan           194      2.0      Petrol   \n",
              "4344     Volkswagen   13500.0        van           124      2.0      Diesel   \n",
              "\n",
              "     Registration  Year              Model  \n",
              "0             yes  1991                320  \n",
              "1             yes  1999       Sprinter 212  \n",
              "2             yes  2003              S 500  \n",
              "3             yes  2007                 Q7  \n",
              "4             yes  2011              Rav 4  \n",
              "...           ...   ...                ...  \n",
              "4339          yes  2014            Corolla  \n",
              "4340          yes  2014              S 350  \n",
              "4341          yes  1999                535  \n",
              "4342          yes  1985                520  \n",
              "4344          yes  2013  T5 (Transporter)   \n",
              "\n",
              "[4025 rows x 9 columns]"
            ],
            "text/html": [
              "\n",
              "  <div id=\"df-89bee0ae-8238-465e-b811-06a5e8fa44c0\">\n",
              "    <div class=\"colab-df-container\">\n",
              "      <div>\n",
              "<style scoped>\n",
              "    .dataframe tbody tr th:only-of-type {\n",
              "        vertical-align: middle;\n",
              "    }\n",
              "\n",
              "    .dataframe tbody tr th {\n",
              "        vertical-align: top;\n",
              "    }\n",
              "\n",
              "    .dataframe thead th {\n",
              "        text-align: right;\n",
              "    }\n",
              "</style>\n",
              "<table border=\"1\" class=\"dataframe\">\n",
              "  <thead>\n",
              "    <tr style=\"text-align: right;\">\n",
              "      <th></th>\n",
              "      <th>Brand</th>\n",
              "      <th>Price</th>\n",
              "      <th>Body</th>\n",
              "      <th>Mileage/1000</th>\n",
              "      <th>EngineV</th>\n",
              "      <th>Engine Type</th>\n",
              "      <th>Registration</th>\n",
              "      <th>Year</th>\n",
              "      <th>Model</th>\n",
              "    </tr>\n",
              "  </thead>\n",
              "  <tbody>\n",
              "    <tr>\n",
              "      <th>0</th>\n",
              "      <td>BMW</td>\n",
              "      <td>4200.0</td>\n",
              "      <td>sedan</td>\n",
              "      <td>277</td>\n",
              "      <td>2.0</td>\n",
              "      <td>Petrol</td>\n",
              "      <td>yes</td>\n",
              "      <td>1991</td>\n",
              "      <td>320</td>\n",
              "    </tr>\n",
              "    <tr>\n",
              "      <th>1</th>\n",
              "      <td>Mercedes-Benz</td>\n",
              "      <td>7900.0</td>\n",
              "      <td>van</td>\n",
              "      <td>427</td>\n",
              "      <td>2.9</td>\n",
              "      <td>Diesel</td>\n",
              "      <td>yes</td>\n",
              "      <td>1999</td>\n",
              "      <td>Sprinter 212</td>\n",
              "    </tr>\n",
              "    <tr>\n",
              "      <th>2</th>\n",
              "      <td>Mercedes-Benz</td>\n",
              "      <td>13300.0</td>\n",
              "      <td>sedan</td>\n",
              "      <td>358</td>\n",
              "      <td>5.0</td>\n",
              "      <td>Gas</td>\n",
              "      <td>yes</td>\n",
              "      <td>2003</td>\n",
              "      <td>S 500</td>\n",
              "    </tr>\n",
              "    <tr>\n",
              "      <th>3</th>\n",
              "      <td>Audi</td>\n",
              "      <td>23000.0</td>\n",
              "      <td>crossover</td>\n",
              "      <td>240</td>\n",
              "      <td>4.2</td>\n",
              "      <td>Petrol</td>\n",
              "      <td>yes</td>\n",
              "      <td>2007</td>\n",
              "      <td>Q7</td>\n",
              "    </tr>\n",
              "    <tr>\n",
              "      <th>4</th>\n",
              "      <td>Toyota</td>\n",
              "      <td>18300.0</td>\n",
              "      <td>crossover</td>\n",
              "      <td>120</td>\n",
              "      <td>2.0</td>\n",
              "      <td>Petrol</td>\n",
              "      <td>yes</td>\n",
              "      <td>2011</td>\n",
              "      <td>Rav 4</td>\n",
              "    </tr>\n",
              "    <tr>\n",
              "      <th>...</th>\n",
              "      <td>...</td>\n",
              "      <td>...</td>\n",
              "      <td>...</td>\n",
              "      <td>...</td>\n",
              "      <td>...</td>\n",
              "      <td>...</td>\n",
              "      <td>...</td>\n",
              "      <td>...</td>\n",
              "      <td>...</td>\n",
              "    </tr>\n",
              "    <tr>\n",
              "      <th>4339</th>\n",
              "      <td>Toyota</td>\n",
              "      <td>17900.0</td>\n",
              "      <td>sedan</td>\n",
              "      <td>35</td>\n",
              "      <td>1.6</td>\n",
              "      <td>Petrol</td>\n",
              "      <td>yes</td>\n",
              "      <td>2014</td>\n",
              "      <td>Corolla</td>\n",
              "    </tr>\n",
              "    <tr>\n",
              "      <th>4340</th>\n",
              "      <td>Mercedes-Benz</td>\n",
              "      <td>125000.0</td>\n",
              "      <td>sedan</td>\n",
              "      <td>9</td>\n",
              "      <td>3.0</td>\n",
              "      <td>Diesel</td>\n",
              "      <td>yes</td>\n",
              "      <td>2014</td>\n",
              "      <td>S 350</td>\n",
              "    </tr>\n",
              "    <tr>\n",
              "      <th>4341</th>\n",
              "      <td>BMW</td>\n",
              "      <td>6500.0</td>\n",
              "      <td>sedan</td>\n",
              "      <td>1</td>\n",
              "      <td>3.5</td>\n",
              "      <td>Petrol</td>\n",
              "      <td>yes</td>\n",
              "      <td>1999</td>\n",
              "      <td>535</td>\n",
              "    </tr>\n",
              "    <tr>\n",
              "      <th>4342</th>\n",
              "      <td>BMW</td>\n",
              "      <td>8000.0</td>\n",
              "      <td>sedan</td>\n",
              "      <td>194</td>\n",
              "      <td>2.0</td>\n",
              "      <td>Petrol</td>\n",
              "      <td>yes</td>\n",
              "      <td>1985</td>\n",
              "      <td>520</td>\n",
              "    </tr>\n",
              "    <tr>\n",
              "      <th>4344</th>\n",
              "      <td>Volkswagen</td>\n",
              "      <td>13500.0</td>\n",
              "      <td>van</td>\n",
              "      <td>124</td>\n",
              "      <td>2.0</td>\n",
              "      <td>Diesel</td>\n",
              "      <td>yes</td>\n",
              "      <td>2013</td>\n",
              "      <td>T5 (Transporter)</td>\n",
              "    </tr>\n",
              "  </tbody>\n",
              "</table>\n",
              "<p>4025 rows × 9 columns</p>\n",
              "</div>\n",
              "      <button class=\"colab-df-convert\" onclick=\"convertToInteractive('df-89bee0ae-8238-465e-b811-06a5e8fa44c0')\"\n",
              "              title=\"Convert this dataframe to an interactive table.\"\n",
              "              style=\"display:none;\">\n",
              "        \n",
              "  <svg xmlns=\"http://www.w3.org/2000/svg\" height=\"24px\"viewBox=\"0 0 24 24\"\n",
              "       width=\"24px\">\n",
              "    <path d=\"M0 0h24v24H0V0z\" fill=\"none\"/>\n",
              "    <path d=\"M18.56 5.44l.94 2.06.94-2.06 2.06-.94-2.06-.94-.94-2.06-.94 2.06-2.06.94zm-11 1L8.5 8.5l.94-2.06 2.06-.94-2.06-.94L8.5 2.5l-.94 2.06-2.06.94zm10 10l.94 2.06.94-2.06 2.06-.94-2.06-.94-.94-2.06-.94 2.06-2.06.94z\"/><path d=\"M17.41 7.96l-1.37-1.37c-.4-.4-.92-.59-1.43-.59-.52 0-1.04.2-1.43.59L10.3 9.45l-7.72 7.72c-.78.78-.78 2.05 0 2.83L4 21.41c.39.39.9.59 1.41.59.51 0 1.02-.2 1.41-.59l7.78-7.78 2.81-2.81c.8-.78.8-2.07 0-2.86zM5.41 20L4 18.59l7.72-7.72 1.47 1.35L5.41 20z\"/>\n",
              "  </svg>\n",
              "      </button>\n",
              "      \n",
              "  <style>\n",
              "    .colab-df-container {\n",
              "      display:flex;\n",
              "      flex-wrap:wrap;\n",
              "      gap: 12px;\n",
              "    }\n",
              "\n",
              "    .colab-df-convert {\n",
              "      background-color: #E8F0FE;\n",
              "      border: none;\n",
              "      border-radius: 50%;\n",
              "      cursor: pointer;\n",
              "      display: none;\n",
              "      fill: #1967D2;\n",
              "      height: 32px;\n",
              "      padding: 0 0 0 0;\n",
              "      width: 32px;\n",
              "    }\n",
              "\n",
              "    .colab-df-convert:hover {\n",
              "      background-color: #E2EBFA;\n",
              "      box-shadow: 0px 1px 2px rgba(60, 64, 67, 0.3), 0px 1px 3px 1px rgba(60, 64, 67, 0.15);\n",
              "      fill: #174EA6;\n",
              "    }\n",
              "\n",
              "    [theme=dark] .colab-df-convert {\n",
              "      background-color: #3B4455;\n",
              "      fill: #D2E3FC;\n",
              "    }\n",
              "\n",
              "    [theme=dark] .colab-df-convert:hover {\n",
              "      background-color: #434B5C;\n",
              "      box-shadow: 0px 1px 3px 1px rgba(0, 0, 0, 0.15);\n",
              "      filter: drop-shadow(0px 1px 2px rgba(0, 0, 0, 0.3));\n",
              "      fill: #FFFFFF;\n",
              "    }\n",
              "  </style>\n",
              "\n",
              "      <script>\n",
              "        const buttonEl =\n",
              "          document.querySelector('#df-89bee0ae-8238-465e-b811-06a5e8fa44c0 button.colab-df-convert');\n",
              "        buttonEl.style.display =\n",
              "          google.colab.kernel.accessAllowed ? 'block' : 'none';\n",
              "\n",
              "        async function convertToInteractive(key) {\n",
              "          const element = document.querySelector('#df-89bee0ae-8238-465e-b811-06a5e8fa44c0');\n",
              "          const dataTable =\n",
              "            await google.colab.kernel.invokeFunction('convertToInteractive',\n",
              "                                                     [key], {});\n",
              "          if (!dataTable) return;\n",
              "\n",
              "          const docLinkHtml = 'Like what you see? Visit the ' +\n",
              "            '<a target=\"_blank\" href=https://colab.research.google.com/notebooks/data_table.ipynb>data table notebook</a>'\n",
              "            + ' to learn more about interactive tables.';\n",
              "          element.innerHTML = '';\n",
              "          dataTable['output_type'] = 'display_data';\n",
              "          await google.colab.output.renderOutput(dataTable, element);\n",
              "          const docLink = document.createElement('div');\n",
              "          docLink.innerHTML = docLinkHtml;\n",
              "          element.appendChild(docLink);\n",
              "        }\n",
              "      </script>\n",
              "    </div>\n",
              "  </div>\n",
              "  "
            ]
          },
          "metadata": {},
          "execution_count": 42
        }
      ]
    },
    {
      "cell_type": "markdown",
      "source": [
        "2 - Note que os dataset está no sistema americano. Converta os dados para o sistema métrico e altere o cabeçalho de forma que os dados façam sentido. (1,0)\n",
        "\n",
        "Obs: Os dados de Milhas dividos por mil, ou seja, multiplique o valor por 1.000 para ter o valor real!"
      ],
      "metadata": {
        "id": "qXaP-3r05bSZ"
      }
    },
    {
      "cell_type": "code",
      "source": [
        "df['km'] = df['Mileage/1000'] * 1000 * 1.60934\n",
        "df = df.drop(['Mileage/1000'], axis = 1)\n",
        "df\n",
        "\n",
        "traducao = {\n",
        "    'Brand' : 'marca',\n",
        "    'Price' : 'preço',\n",
        "    'Body' : 'tipo',\n",
        "    'EngineV' : 'motor',\n",
        "    'Engine Type' : 'combustivel',\n",
        "    'Registration' : 'cadastro',\n",
        "    'Year' : 'Ano',\n",
        "    'Model' : 'modelo',\n",
        "}\n",
        "df = df.rename(columns=traducao)\n",
        "\n"
      ],
      "metadata": {
        "id": "FqWaPS5d7yk0",
        "outputId": "2083f3a7-45e8-470c-a402-83f447c8f1a9",
        "colab": {
          "base_uri": "https://localhost:8080/",
          "height": 131
        }
      },
      "execution_count": 50,
      "outputs": [
        {
          "output_type": "error",
          "ename": "SyntaxError",
          "evalue": "ignored",
          "traceback": [
            "\u001b[0;36m  File \u001b[0;32m\"<ipython-input-50-80c60e407c92>\"\u001b[0;36m, line \u001b[0;32m7\u001b[0m\n\u001b[0;31m    'Price' : 'preço'\u001b[0m\n\u001b[0m            ^\u001b[0m\n\u001b[0;31mSyntaxError\u001b[0m\u001b[0;31m:\u001b[0m invalid syntax\n"
          ]
        }
      ]
    },
    {
      "cell_type": "markdown",
      "source": [
        "## **Analise descritiva dos dados - 2 pontos**\n",
        "\n",
        "3 - Faça uma análise exploratória dos dados, utilizando gráficos e tabelas para realizar correlações entre os atributos e que permitam criar um cenário de correlação entre eles."
      ],
      "metadata": {
        "id": "JkvVJsjg5kTq"
      }
    },
    {
      "cell_type": "code",
      "source": [
        "#Sua resposta aqui"
      ],
      "metadata": {
        "id": "ENdW7hn56FFp"
      },
      "execution_count": null,
      "outputs": []
    },
    {
      "cell_type": "markdown",
      "source": [
        "## **Desenvolvimento do Modelo - 2 pontos**\n",
        "\n",
        "4 - O conjunto de dados indica a aplicação de qual modelo de aprendizagem de máquina para responder a pergunta do desafio? Por quê? (1,0)"
      ],
      "metadata": {
        "id": "O_m8RaIs6KIz"
      }
    },
    {
      "cell_type": "markdown",
      "source": [
        "Resposta:"
      ],
      "metadata": {
        "id": "nWTzZl2K6kY_"
      }
    },
    {
      "cell_type": "markdown",
      "source": [
        "5 - Qual a técnica sugerida para este projeto? Por quê? (1,0)"
      ],
      "metadata": {
        "id": "uUkBz0pu6nLk"
      }
    },
    {
      "cell_type": "markdown",
      "source": [
        "Resposta:"
      ],
      "metadata": {
        "id": "2V2a4DRv6xg_"
      }
    },
    {
      "cell_type": "markdown",
      "source": [
        "Com base nas suas respostas, agora escolha dois algortimos para implementar e comparar a performance de cada um deles ao final do desafio."
      ],
      "metadata": {
        "id": "wxJjN_cO7XbH"
      }
    },
    {
      "cell_type": "markdown",
      "source": [
        "Resposta:\n",
        "\n",
        "Algoritmo 1:\n",
        "\n",
        "Algoritmo 2:"
      ],
      "metadata": {
        "id": "N6tmcuJk7fn4"
      }
    },
    {
      "cell_type": "markdown",
      "source": [
        "## **Treinamento e teste do Modelo - 3 pontos**\n",
        "\n",
        "6 - Crie um subset dos dados que serão utilizados para o treinamento e para o teste do modelo. Divida este subset em treino e teste. (1,0) "
      ],
      "metadata": {
        "id": "H9gsbQvj6y_m"
      }
    },
    {
      "cell_type": "code",
      "source": [
        "#Sua resposta aqui"
      ],
      "metadata": {
        "id": "WW17xlyN78B8"
      },
      "execution_count": null,
      "outputs": []
    },
    {
      "cell_type": "markdown",
      "source": [
        "7 - Faça o treinamento e teste dos 2 algoritmos escolhidos. Utilize uma métrica (ex. R2-score, RMSE e MAE...) para avaliar a performance dos modelos."
      ],
      "metadata": {
        "id": "QpDpVyWw7-Au"
      }
    },
    {
      "cell_type": "markdown",
      "source": [
        "7.1 - Algoritmo 1: (0,5)\n"
      ],
      "metadata": {
        "id": "Ft06krzb8RAV"
      }
    },
    {
      "cell_type": "code",
      "source": [
        "#Sua resposta aqui"
      ],
      "metadata": {
        "id": "vf4QB14J8Usb"
      },
      "execution_count": null,
      "outputs": []
    },
    {
      "cell_type": "markdown",
      "source": [
        "7.2 - Algoritmo 2:  (0,5)"
      ],
      "metadata": {
        "id": "S8MKlSSM8dz5"
      }
    },
    {
      "cell_type": "code",
      "source": [
        "#Sua resposta aqui"
      ],
      "metadata": {
        "id": "6kM92epO8gas"
      },
      "execution_count": null,
      "outputs": []
    },
    {
      "cell_type": "markdown",
      "source": [
        "7.3 - Qual dos algortimos obteve melhor resultado? Por quê? (1,0)"
      ],
      "metadata": {
        "id": "rBJqsqIB84E_"
      }
    },
    {
      "cell_type": "markdown",
      "source": [
        "Resposta:"
      ],
      "metadata": {
        "id": "cnGh51RS8_we"
      }
    },
    {
      "cell_type": "markdown",
      "source": [
        "## **Modelo de Produção: Teste com novos dados - 1 ponto**\n",
        "\n",
        "8 - Use o seu modelo treinado para responder a pergunta do desafio:"
      ],
      "metadata": {
        "id": "YpNVMhSw9Fe7"
      }
    },
    {
      "cell_type": "code",
      "source": [
        "#Sua resposta aqui"
      ],
      "metadata": {
        "id": "zCssWHNU9R8P"
      },
      "execution_count": null,
      "outputs": []
    }
  ]
}